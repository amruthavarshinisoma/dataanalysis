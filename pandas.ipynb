{
  "nbformat": 4,
  "nbformat_minor": 0,
  "metadata": {
    "colab": {
      "provenance": []
    },
    "kernelspec": {
      "name": "python3",
      "display_name": "Python 3"
    },
    "language_info": {
      "name": "python"
    }
  },
  "cells": [
    {
      "cell_type": "code",
      "execution_count": null,
      "metadata": {
        "id": "Qv7Vy7wTqWOS"
      },
      "outputs": [],
      "source": [
        "import pandas as pd\n",
        "a=[\"Amrutha\",\"Sushma\",\"Pujitha\",\"Reshma\",\"Meghana\",\"Triveni\",\"Lakshmi\",]\n",
        "r=pd.Series(a,index = [67,34,56,23,69,87,22])\n",
        "print(r)"
      ]
    },
    {
      "cell_type": "code",
      "source": [
        "df = pd.read_csv(\"/content/diabetcsv.csv\")\n",
        "print(df)"
      ],
      "metadata": {
        "id": "ic05Td-n7cwI"
      },
      "execution_count": null,
      "outputs": []
    },
    {
      "cell_type": "code",
      "source": [
        "df = pd.read_csv(\"/content/grades_withnulls.csv\")\n",
        "print(df)"
      ],
      "metadata": {
        "id": "7Um3ylpD8FY4"
      },
      "execution_count": null,
      "outputs": []
    },
    {
      "cell_type": "code",
      "source": [
        "import pandas as pd\n",
        "df =pd.read_excel(\"/diabetcsv.xls\",sheet_name=0)\n",
        "print(df)"
      ],
      "metadata": {
        "id": "5wllrbbD9H6G"
      },
      "execution_count": null,
      "outputs": []
    },
    {
      "cell_type": "code",
      "source": [
        "df =pd.read_excel(\"/diabetcsv.xls\")\n",
        "print(df.head())\n",
        "#print(df.tail(n=10))\n"
      ],
      "metadata": {
        "id": "cWIXwnuKSgj3"
      },
      "execution_count": null,
      "outputs": []
    },
    {
      "cell_type": "code",
      "source": [
        "df =pd.read_excel(\"/diabetcsv.xls\")\n",
        "print(df.describe)"
      ],
      "metadata": {
        "id": "RIwJgpZlTKMt"
      },
      "execution_count": null,
      "outputs": []
    },
    {
      "cell_type": "code",
      "source": [
        "df =pd.read_excel(\"/diabetcsv.xls\")\n",
        "print(df.describe().T)"
      ],
      "metadata": {
        "id": "iPI8YasCTXRg"
      },
      "execution_count": null,
      "outputs": []
    },
    {
      "cell_type": "code",
      "source": [
        "df=pd.read_excel(\"/diabetcsv.xls\")\n",
        "print(df.shape)#get the number of rows and columns\n",
        "print(df.shape[0])#gets the rows\n",
        "print(df.shape[1])"
      ],
      "metadata": {
        "id": "YQfmFBVvTzAi"
      },
      "execution_count": null,
      "outputs": []
    },
    {
      "cell_type": "code",
      "source": [
        "df=pd.read_excel(\"/diabetcsv.xls\")\n",
        "print(df.columns)"
      ],
      "metadata": {
        "id": "VMdrVuFjUonT"
      },
      "execution_count": null,
      "outputs": []
    },
    {
      "cell_type": "code",
      "source": [
        "df=pd.read_csv(\"/diabetcsv.csv\")\n",
        "df2=df.copy()\n",
        "df2.loc[2:5,'SEM1']= None\n",
        "df2.head(7)\n",
        "df2.isnull().head(7)\n",
        "df2.isnull().tail(7)\n",
        "print(df2.isnull().sum())\n",
        "print(df['age'])\n",
        "print(df2[['age','skin']])\n"
      ],
      "metadata": {
        "id": "yUBS2l9QU8IY"
      },
      "execution_count": null,
      "outputs": []
    },
    {
      "cell_type": "code",
      "source": [
        "df=pd.read_csv(\"/grades_withnulls.csv\")#printing one row\n",
        "print(df[df.index==1])\n",
        "print(df[df.index.isin(range(2,5))])#printing multiple rows\n",
        "print(df2.loc[1])#printing one row as series\n",
        "df2.loc[6:11,'SEM1']==None#loc with ranging\n",
        "print(df2)\n",
        "df2.loc[[10,2,3]]\n",
        "df2.loc[10:15,['Names','Grades']]\n",
        "df2.iloc[10:14, :3]#[row,column]\n",
        "df2.loc[:7, [\"Names\"]]#[row,column]"
      ],
      "metadata": {
        "id": "lCpxX59zX8Zw"
      },
      "execution_count": null,
      "outputs": []
    },
    {
      "cell_type": "code",
      "source": [
        "df=pd.read_csv(\"/grades_withnulls.csv\")\n",
        "df2.loc[df['Names']=='Rajesh']"
      ],
      "metadata": {
        "id": "7ajKOpKEd5mA"
      },
      "execution_count": null,
      "outputs": []
    },
    {
      "cell_type": "code",
      "source": [
        "df=pd.read_csv(\"/grades_withnulls.csv\")\n",
        "df.loc[df['SEM1']>9.8,['Names']]\n",
        "df3=df2.copy()\n",
        "print(df3)"
      ],
      "metadata": {
        "id": "K8BAbx6lf2_M"
      },
      "execution_count": null,
      "outputs": []
    },
    {
      "cell_type": "code",
      "source": [
        "df=pd.read_csv(\"/diabetcsv.csv\")\n",
        "df3.dropna(inplace=True,axis=1)\n",
        "df3\n",
        "df3.dropna(inplace=True, how='all')#drops both rows and columns of none\n",
        "df3"
      ],
      "metadata": {
        "id": "ILwR-ns8i55S"
      },
      "execution_count": null,
      "outputs": []
    },
    {
      "cell_type": "code",
      "source": [
        "df=pd.read_csv(\"/diabetcsv.csv\")\n",
        "mv=df2['SEM1'].mean()\n",
        "df2 = df2.fillna(mv)\n",
        "print(df2)\n",
        "print(mv)"
      ],
      "metadata": {
        "id": "_kWIWAsqmYEN"
      },
      "execution_count": null,
      "outputs": []
    },
    {
      "cell_type": "code",
      "source": [
        "\n"
      ],
      "metadata": {
        "id": "Zl13hyX9zplk"
      },
      "execution_count": null,
      "outputs": []
    }
  ]
}